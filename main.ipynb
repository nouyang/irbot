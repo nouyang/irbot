{
 "cells": [
  {
   "cell_type": "code",
   "execution_count": 32,
   "metadata": {},
   "outputs": [],
   "source": [
    "import pandas as pd\n",
    "import numpy as np\n"
   ]
  },
  {
   "cell_type": "code",
   "execution_count": 147,
   "metadata": {},
   "outputs": [
    {
     "name": "stdout",
     "output_type": "stream",
     "text": [
      "cached\t\t\tirbot.ipynb    notes_praw.txt  results\n",
      "csv\t\t\tirbot_test.py  praw.ini        runs\n",
      "example_huggingface.py\tLICENSE        README.md       sigtbd-irbot.pdf\n",
      "gpt_machinecurve.py\tmain.ipynb     reddit.ipynb\n",
      "GPTRick.ipynb\t\tmain.py        reddit.py\n"
     ]
    }
   ],
   "source": [
    "!ls"
   ]
  },
  {
   "cell_type": "code",
   "execution_count": 188,
   "metadata": {},
   "outputs": [
    {
     "data": {
      "text/html": [
       "<div>\n",
       "<style scoped>\n",
       "    .dataframe tbody tr th:only-of-type {\n",
       "        vertical-align: middle;\n",
       "    }\n",
       "\n",
       "    .dataframe tbody tr th {\n",
       "        vertical-align: top;\n",
       "    }\n",
       "\n",
       "    .dataframe thead th {\n",
       "        text-align: right;\n",
       "    }\n",
       "</style>\n",
       "<table border=\"1\" class=\"dataframe\">\n",
       "  <thead>\n",
       "    <tr style=\"text-align: right;\">\n",
       "      <th></th>\n",
       "      <th>0</th>\n",
       "    </tr>\n",
       "  </thead>\n",
       "  <tbody>\n",
       "    <tr>\n",
       "      <th>0</th>\n",
       "      <td>\\t– Busy husband only ever wants to have sex d...</td>\n",
       "    </tr>\n",
       "    <tr>\n",
       "      <th>1</th>\n",
       "      <td>&gt;What do I do?\\n\\nWhat do you want him to do? ...</td>\n",
       "    </tr>\n",
       "    <tr>\n",
       "      <th>2</th>\n",
       "      <td>I like this comment, it is direct</td>\n",
       "    </tr>\n",
       "    <tr>\n",
       "      <th>3</th>\n",
       "      <td>\\t My  husband  only ever wants to have sex…</td>\n",
       "    </tr>\n",
       "    <tr>\n",
       "      <th>4</th>\n",
       "      <td>I'm a guy and had a girlfriend like this</td>\n",
       "    </tr>\n",
       "    <tr>\n",
       "      <th>...</th>\n",
       "      <td>...</td>\n",
       "    </tr>\n",
       "    <tr>\n",
       "      <th>1171</th>\n",
       "      <td>Sorry but a break at 30 years old is just Brea...</td>\n",
       "    </tr>\n",
       "    <tr>\n",
       "      <th>1172</th>\n",
       "      <td>Yeah I agree, I even said this is mostly likel...</td>\n",
       "    </tr>\n",
       "    <tr>\n",
       "      <th>1173</th>\n",
       "      <td>\\t Me  and my fiance  have just gone a 2 month...</td>\n",
       "    </tr>\n",
       "    <tr>\n",
       "      <th>1174</th>\n",
       "      <td>going onto or off the Pill is 100% a well know...</td>\n",
       "    </tr>\n",
       "    <tr>\n",
       "      <th>1175</th>\n",
       "      <td>Yeah I accept that but I forgot to say she's b...</td>\n",
       "    </tr>\n",
       "  </tbody>\n",
       "</table>\n",
       "<p>1176 rows × 1 columns</p>\n",
       "</div>"
      ],
      "text/plain": [
       "                                                      0\n",
       "0     \\t– Busy husband only ever wants to have sex d...\n",
       "1     >What do I do?\\n\\nWhat do you want him to do? ...\n",
       "2                     I like this comment, it is direct\n",
       "3          \\t My  husband  only ever wants to have sex…\n",
       "4              I'm a guy and had a girlfriend like this\n",
       "...                                                 ...\n",
       "1171  Sorry but a break at 30 years old is just Brea...\n",
       "1172  Yeah I agree, I even said this is mostly likel...\n",
       "1173  \\t Me  and my fiance  have just gone a 2 month...\n",
       "1174  going onto or off the Pill is 100% a well know...\n",
       "1175  Yeah I accept that but I forgot to say she's b...\n",
       "\n",
       "[1176 rows x 1 columns]"
      ]
     },
     "execution_count": 188,
     "metadata": {},
     "output_type": "execute_result"
    }
   ],
   "source": [
    "df = pd.read_csv('./csv/scrape_hot_200_tldrfix.csv')\n",
    "\n",
    "df.columns\n",
    "df.drop(labels='Unnamed: 0', axis=1)\n"
   ]
  },
  {
   "cell_type": "code",
   "execution_count": 189,
   "metadata": {},
   "outputs": [],
   "source": [
    "\n",
    "my_list = []\n",
    "for i, row in enumerate(df['0'].to_list()):\n",
    "        if type(row) == str:\n",
    "            text_row = row.strip()\n",
    "        else:\n",
    "            text_row = row\n",
    "        my_list.append(text_row)\n",
    "        if (i-1)%3 == 0:\n",
    "            my_list.append(text_row) # append twice\n",
    "\n",
    "df2 = pd.DataFrame(my_list)\n",
    "#df2 = df2.iloc[:-1] # remove last row\n",
    "    \n",
    "     "
   ]
  },
  {
   "cell_type": "code",
   "execution_count": 190,
   "metadata": {},
   "outputs": [
    {
     "data": {
      "text/plain": [
       "879"
      ]
     },
     "execution_count": 190,
     "metadata": {},
     "output_type": "execute_result"
    }
   ],
   "source": [
    "lens = [len(a) for a in df2[0] if a is not np.nan] \n",
    "lens.sort()\n",
    "lens[-1]"
   ]
  },
  {
   "cell_type": "code",
   "execution_count": null,
   "metadata": {},
   "outputs": [],
   "source": []
  },
  {
   "cell_type": "code",
   "execution_count": 191,
   "metadata": {},
   "outputs": [
    {
     "data": {
      "text/html": [
       "<div>\n",
       "<style scoped>\n",
       "    .dataframe tbody tr th:only-of-type {\n",
       "        vertical-align: middle;\n",
       "    }\n",
       "\n",
       "    .dataframe tbody tr th {\n",
       "        vertical-align: top;\n",
       "    }\n",
       "\n",
       "    .dataframe thead th {\n",
       "        text-align: right;\n",
       "    }\n",
       "</style>\n",
       "<table border=\"1\" class=\"dataframe\">\n",
       "  <thead>\n",
       "    <tr style=\"text-align: right;\">\n",
       "      <th></th>\n",
       "      <th>0</th>\n",
       "    </tr>\n",
       "  </thead>\n",
       "  <tbody>\n",
       "    <tr>\n",
       "      <th>1</th>\n",
       "      <td>&gt;What do I do?\\n\\nWhat do you want him to do? ...</td>\n",
       "    </tr>\n",
       "    <tr>\n",
       "      <th>3</th>\n",
       "      <td>I like this comment, it is direct</td>\n",
       "    </tr>\n",
       "    <tr>\n",
       "      <th>5</th>\n",
       "      <td>I'm a guy and had a girlfriend like this</td>\n",
       "    </tr>\n",
       "    <tr>\n",
       "      <th>7</th>\n",
       "      <td>NaN</td>\n",
       "    </tr>\n",
       "    <tr>\n",
       "      <th>9</th>\n",
       "      <td>She's openly flirting with women and getting t...</td>\n",
       "    </tr>\n",
       "    <tr>\n",
       "      <th>...</th>\n",
       "      <td>...</td>\n",
       "    </tr>\n",
       "    <tr>\n",
       "      <th>1557</th>\n",
       "      <td>NaN</td>\n",
       "    </tr>\n",
       "    <tr>\n",
       "      <th>1559</th>\n",
       "      <td>NaN</td>\n",
       "    </tr>\n",
       "    <tr>\n",
       "      <th>1561</th>\n",
       "      <td>Sorry but a break at 30 years old is just Brea...</td>\n",
       "    </tr>\n",
       "    <tr>\n",
       "      <th>1563</th>\n",
       "      <td>Yeah I agree, I even said this is mostly likel...</td>\n",
       "    </tr>\n",
       "    <tr>\n",
       "      <th>1565</th>\n",
       "      <td>going onto or off the Pill is 100% a well know...</td>\n",
       "    </tr>\n",
       "  </tbody>\n",
       "</table>\n",
       "<p>783 rows × 1 columns</p>\n",
       "</div>"
      ],
      "text/plain": [
       "                                                      0\n",
       "1     >What do I do?\\n\\nWhat do you want him to do? ...\n",
       "3                     I like this comment, it is direct\n",
       "5              I'm a guy and had a girlfriend like this\n",
       "7                                                   NaN\n",
       "9     She's openly flirting with women and getting t...\n",
       "...                                                 ...\n",
       "1557                                                NaN\n",
       "1559                                                NaN\n",
       "1561  Sorry but a break at 30 years old is just Brea...\n",
       "1563  Yeah I agree, I even said this is mostly likel...\n",
       "1565  going onto or off the Pill is 100% a well know...\n",
       "\n",
       "[783 rows x 1 columns]"
      ]
     },
     "execution_count": 191,
     "metadata": {},
     "output_type": "execute_result"
    }
   ],
   "source": [
    "df2.iloc[1:-2:2]"
   ]
  },
  {
   "cell_type": "code",
   "execution_count": 192,
   "metadata": {},
   "outputs": [
    {
     "data": {
      "text/plain": [
       "pandas.core.series.Series"
      ]
     },
     "execution_count": 192,
     "metadata": {},
     "output_type": "execute_result"
    }
   ],
   "source": [
    "type(final_df.context)\n",
    "type(df2[0].iloc[1:-2:2])"
   ]
  },
  {
   "cell_type": "code",
   "execution_count": 193,
   "metadata": {},
   "outputs": [
    {
     "data": {
      "text/html": [
       "<div>\n",
       "<style scoped>\n",
       "    .dataframe tbody tr th:only-of-type {\n",
       "        vertical-align: middle;\n",
       "    }\n",
       "\n",
       "    .dataframe tbody tr th {\n",
       "        vertical-align: top;\n",
       "    }\n",
       "\n",
       "    .dataframe thead th {\n",
       "        text-align: right;\n",
       "    }\n",
       "</style>\n",
       "<table border=\"1\" class=\"dataframe\">\n",
       "  <thead>\n",
       "    <tr style=\"text-align: right;\">\n",
       "      <th></th>\n",
       "      <th>response</th>\n",
       "      <th>context</th>\n",
       "    </tr>\n",
       "  </thead>\n",
       "  <tbody>\n",
       "    <tr>\n",
       "      <th>0</th>\n",
       "      <td>&gt;What do I do?\\n\\nWhat do you want him to do? ...</td>\n",
       "      <td>– Busy husband only ever wants to have sex dur...</td>\n",
       "    </tr>\n",
       "    <tr>\n",
       "      <th>1</th>\n",
       "      <td>I like this comment, it is direct</td>\n",
       "      <td>&gt;What do I do?\\n\\nWhat do you want him to do? ...</td>\n",
       "    </tr>\n",
       "    <tr>\n",
       "      <th>2</th>\n",
       "      <td>I'm a guy and had a girlfriend like this</td>\n",
       "      <td>My  husband  only ever wants to have sex…</td>\n",
       "    </tr>\n",
       "    <tr>\n",
       "      <th>3</th>\n",
       "      <td>NaN</td>\n",
       "      <td>I'm a guy and had a girlfriend like this</td>\n",
       "    </tr>\n",
       "    <tr>\n",
       "      <th>4</th>\n",
       "      <td>She's openly flirting with women and getting t...</td>\n",
       "      <td>my girlfriend has previously hooked up with he...</td>\n",
       "    </tr>\n",
       "    <tr>\n",
       "      <th>...</th>\n",
       "      <td>...</td>\n",
       "      <td>...</td>\n",
       "    </tr>\n",
       "    <tr>\n",
       "      <th>778</th>\n",
       "      <td>NaN</td>\n",
       "      <td>Feel like my LDR is fizzling out, please help.</td>\n",
       "    </tr>\n",
       "    <tr>\n",
       "      <th>779</th>\n",
       "      <td>NaN</td>\n",
       "      <td>NaN</td>\n",
       "    </tr>\n",
       "    <tr>\n",
       "      <th>780</th>\n",
       "      <td>Sorry but a break at 30 years old is just Brea...</td>\n",
       "      <td>me and fiance started a break and she instantl...</td>\n",
       "    </tr>\n",
       "    <tr>\n",
       "      <th>781</th>\n",
       "      <td>Yeah I agree, I even said this is mostly likel...</td>\n",
       "      <td>Sorry but a break at 30 years old is just Brea...</td>\n",
       "    </tr>\n",
       "    <tr>\n",
       "      <th>782</th>\n",
       "      <td>going onto or off the Pill is 100% a well know...</td>\n",
       "      <td>Me  and my fiance  have just gone a 2 month br...</td>\n",
       "    </tr>\n",
       "  </tbody>\n",
       "</table>\n",
       "<p>783 rows × 2 columns</p>\n",
       "</div>"
      ],
      "text/plain": [
       "                                              response  \\\n",
       "0    >What do I do?\\n\\nWhat do you want him to do? ...   \n",
       "1                    I like this comment, it is direct   \n",
       "2             I'm a guy and had a girlfriend like this   \n",
       "3                                                  NaN   \n",
       "4    She's openly flirting with women and getting t...   \n",
       "..                                                 ...   \n",
       "778                                                NaN   \n",
       "779                                                NaN   \n",
       "780  Sorry but a break at 30 years old is just Brea...   \n",
       "781  Yeah I agree, I even said this is mostly likel...   \n",
       "782  going onto or off the Pill is 100% a well know...   \n",
       "\n",
       "                                               context  \n",
       "0    – Busy husband only ever wants to have sex dur...  \n",
       "1    >What do I do?\\n\\nWhat do you want him to do? ...  \n",
       "2            My  husband  only ever wants to have sex…  \n",
       "3             I'm a guy and had a girlfriend like this  \n",
       "4    my girlfriend has previously hooked up with he...  \n",
       "..                                                 ...  \n",
       "778     Feel like my LDR is fizzling out, please help.  \n",
       "779                                                NaN  \n",
       "780  me and fiance started a break and she instantl...  \n",
       "781  Sorry but a break at 30 years old is just Brea...  \n",
       "782  Me  and my fiance  have just gone a 2 month br...  \n",
       "\n",
       "[783 rows x 2 columns]"
      ]
     },
     "metadata": {},
     "output_type": "display_data"
    }
   ],
   "source": [
    "final_df = pd.DataFrame(columns=['response', 'context'])\n",
    "final_df.context = df2[0].iloc[:-2:2].values\n",
    "final_df.response = df2[0].iloc[1:-2:2].values # values, NOT set irectly on series (fails with NaN on second columns)\n",
    "display(final_df)"
   ]
  },
  {
   "cell_type": "code",
   "execution_count": 194,
   "metadata": {},
   "outputs": [],
   "source": [
    "\n",
    "final_df['response'].replace('', np.nan, inplace=True)\n",
    "final_df['context'].replace('', np.nan, inplace=True)\n",
    "final_df.dropna(inplace=True)"
   ]
  },
  {
   "cell_type": "code",
   "execution_count": 195,
   "metadata": {},
   "outputs": [
    {
     "data": {
      "text/plain": [
       "'It sounds like both of you are addressing this in a mature manner that will only help both of you in the long run'"
      ]
     },
     "execution_count": 195,
     "metadata": {},
     "output_type": "execute_result"
    }
   ],
   "source": [
    "final_df.iloc[97].response"
   ]
  },
  {
   "cell_type": "code",
   "execution_count": 196,
   "metadata": {},
   "outputs": [],
   "source": [
    "df2.to_csv('./csv/duplicate_row2.csv')"
   ]
  },
  {
   "cell_type": "code",
   "execution_count": 197,
   "metadata": {},
   "outputs": [],
   "source": [
    "final_df.to_csv('./csv/response_context.csv')"
   ]
  },
  {
   "cell_type": "code",
   "execution_count": null,
   "metadata": {},
   "outputs": [],
   "source": []
  },
  {
   "cell_type": "code",
   "execution_count": null,
   "metadata": {},
   "outputs": [],
   "source": []
  },
  {
   "cell_type": "code",
   "execution_count": null,
   "metadata": {},
   "outputs": [],
   "source": []
  }
 ],
 "metadata": {
  "interpreter": {
   "hash": "c094f3eb032fe20a5a089e2bcfc7fb004c85a798d880e730160b0c576496d7df"
  },
  "kernelspec": {
   "display_name": "Python 3.8.10 64-bit ('v3': venv)",
   "language": "python",
   "name": "python3"
  },
  "language_info": {
   "codemirror_mode": {
    "name": "ipython",
    "version": 3
   },
   "file_extension": ".py",
   "mimetype": "text/x-python",
   "name": "python",
   "nbconvert_exporter": "python",
   "pygments_lexer": "ipython3",
   "version": "3.8.10"
  },
  "orig_nbformat": 4
 },
 "nbformat": 4,
 "nbformat_minor": 2
}
