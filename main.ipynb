{
 "cells": [
  {
   "cell_type": "code",
   "execution_count": 32,
   "metadata": {},
   "outputs": [],
   "source": [
    "import pandas as pd\n",
    "import numpy as np\n"
   ]
  },
  {
   "cell_type": "code",
   "execution_count": 33,
   "metadata": {},
   "outputs": [
    {
     "name": "stdout",
     "output_type": "stream",
     "text": [
      "cached\t\t\tnetflix_titles.csv  RickAndMortyScripts.csv\n",
      "example_huggingface.py\tnotes_praw.txt\t    runs\n",
      "gpt_machinecurve.py\todd.csv\t\t    scrape_200.csv\n",
      "GPTRick.ipynb\t\toutput.csv\t    scrape.csv\n",
      "irbot.ipynb\t\tpraw.ini\t    scrape_hot_200.csv\n",
      "irbot_test.py\t\tREADME.md\t    scrape_hot_200_tldrfix.csv\n",
      "LICENSE\t\t\treddit.ipynb\t    sigtbd-irbot.pdf\n",
      "main.ipynb\t\treddit.py\t    tmp.csv\n",
      "main.py\t\t\tresults\n"
     ]
    }
   ],
   "source": [
    "!ls"
   ]
  },
  {
   "cell_type": "code",
   "execution_count": 59,
   "metadata": {},
   "outputs": [
    {
     "data": {
      "text/html": [
       "<div>\n",
       "<style scoped>\n",
       "    .dataframe tbody tr th:only-of-type {\n",
       "        vertical-align: middle;\n",
       "    }\n",
       "\n",
       "    .dataframe tbody tr th {\n",
       "        vertical-align: top;\n",
       "    }\n",
       "\n",
       "    .dataframe thead th {\n",
       "        text-align: right;\n",
       "    }\n",
       "</style>\n",
       "<table border=\"1\" class=\"dataframe\">\n",
       "  <thead>\n",
       "    <tr style=\"text-align: right;\">\n",
       "      <th></th>\n",
       "      <th>0</th>\n",
       "    </tr>\n",
       "  </thead>\n",
       "  <tbody>\n",
       "    <tr>\n",
       "      <th>0</th>\n",
       "      <td>\\tmy girlfriend has previously hooked up with ...</td>\n",
       "    </tr>\n",
       "    <tr>\n",
       "      <th>1</th>\n",
       "      <td>She's openly flirting with women and getting t...</td>\n",
       "    </tr>\n",
       "    <tr>\n",
       "      <th>2</th>\n",
       "      <td>Also she might not be on the same page as you ...</td>\n",
       "    </tr>\n",
       "    <tr>\n",
       "      <th>3</th>\n",
       "      <td>\\t Bisexual gf was hooking up with her roommate</td>\n",
       "    </tr>\n",
       "    <tr>\n",
       "      <th>4</th>\n",
       "      <td>There’s no difference in what is to be expecte...</td>\n",
       "    </tr>\n",
       "    <tr>\n",
       "      <th>...</th>\n",
       "      <td>...</td>\n",
       "    </tr>\n",
       "    <tr>\n",
       "      <th>1170</th>\n",
       "      <td>\\tMade plans to marry my boyfriend but now I w...</td>\n",
       "    </tr>\n",
       "    <tr>\n",
       "      <th>1171</th>\n",
       "      <td>You are young and want to explore</td>\n",
       "    </tr>\n",
       "    <tr>\n",
       "      <th>1172</th>\n",
       "      <td>I agree with you but what can happen is that O...</td>\n",
       "    </tr>\n",
       "    <tr>\n",
       "      <th>1173</th>\n",
       "      <td>\\t Planned to marry my  boyfriend  but now I w...</td>\n",
       "    </tr>\n",
       "    <tr>\n",
       "      <th>1174</th>\n",
       "      <td>Is it a possibility to explore the world with ...</td>\n",
       "    </tr>\n",
       "  </tbody>\n",
       "</table>\n",
       "<p>878 rows × 1 columns</p>\n",
       "</div>"
      ],
      "text/plain": [
       "                                                      0\n",
       "0     \\tmy girlfriend has previously hooked up with ...\n",
       "1     She's openly flirting with women and getting t...\n",
       "2     Also she might not be on the same page as you ...\n",
       "3       \\t Bisexual gf was hooking up with her roommate\n",
       "4     There’s no difference in what is to be expecte...\n",
       "...                                                 ...\n",
       "1170  \\tMade plans to marry my boyfriend but now I w...\n",
       "1171                  You are young and want to explore\n",
       "1172  I agree with you but what can happen is that O...\n",
       "1173  \\t Planned to marry my  boyfriend  but now I w...\n",
       "1174  Is it a possibility to explore the world with ...\n",
       "\n",
       "[878 rows x 1 columns]"
      ]
     },
     "execution_count": 59,
     "metadata": {},
     "output_type": "execute_result"
    }
   ],
   "source": [
    "df = pd.read_csv('./scrape_hot_200_tldrfix.csv')\n",
    "df['0'].replace('', np.nan, inplace=True)\n",
    "\n",
    "df.dropna(inplace=True)\n",
    "df.columns\n",
    "df.drop(labels='Unnamed: 0', axis=1)\n"
   ]
  },
  {
   "cell_type": "code",
   "execution_count": 116,
   "metadata": {},
   "outputs": [],
   "source": [
    "my_list = []\n",
    "for i, row in enumerate(df['0'].to_list()):\n",
    "    my_list.append(row.strip())\n",
    "    if (i-1)%3 == 0:\n",
    "        my_list.append(row.strip()) # append twice\n",
    "\n",
    "df2 = pd.DataFrame(my_list)\n",
    "df2 = df2.iloc[:-1] # remove last row\n",
    "    \n",
    "     "
   ]
  },
  {
   "cell_type": "code",
   "execution_count": null,
   "metadata": {},
   "outputs": [],
   "source": []
  },
  {
   "cell_type": "code",
   "execution_count": 120,
   "metadata": {},
   "outputs": [
    {
     "data": {
      "text/html": [
       "<div>\n",
       "<style scoped>\n",
       "    .dataframe tbody tr th:only-of-type {\n",
       "        vertical-align: middle;\n",
       "    }\n",
       "\n",
       "    .dataframe tbody tr th {\n",
       "        vertical-align: top;\n",
       "    }\n",
       "\n",
       "    .dataframe thead th {\n",
       "        text-align: right;\n",
       "    }\n",
       "</style>\n",
       "<table border=\"1\" class=\"dataframe\">\n",
       "  <thead>\n",
       "    <tr style=\"text-align: right;\">\n",
       "      <th></th>\n",
       "      <th>0</th>\n",
       "    </tr>\n",
       "  </thead>\n",
       "  <tbody>\n",
       "    <tr>\n",
       "      <th>1</th>\n",
       "      <td>She's openly flirting with women and getting t...</td>\n",
       "    </tr>\n",
       "    <tr>\n",
       "      <th>3</th>\n",
       "      <td>Also she might not be on the same page as you ...</td>\n",
       "    </tr>\n",
       "    <tr>\n",
       "      <th>5</th>\n",
       "      <td>There’s no difference in what is to be expecte...</td>\n",
       "    </tr>\n",
       "    <tr>\n",
       "      <th>7</th>\n",
       "      <td>I'm sorry but if her roommate was a male this ...</td>\n",
       "    </tr>\n",
       "    <tr>\n",
       "      <th>9</th>\n",
       "      <td>No</td>\n",
       "    </tr>\n",
       "    <tr>\n",
       "      <th>...</th>\n",
       "      <td>...</td>\n",
       "    </tr>\n",
       "    <tr>\n",
       "      <th>1159</th>\n",
       "      <td>Thats where I am</td>\n",
       "    </tr>\n",
       "    <tr>\n",
       "      <th>1161</th>\n",
       "      <td>You should probably have asked for payment fir...</td>\n",
       "    </tr>\n",
       "    <tr>\n",
       "      <th>1163</th>\n",
       "      <td>If I could turn back time, lol</td>\n",
       "    </tr>\n",
       "    <tr>\n",
       "      <th>1165</th>\n",
       "      <td>You are young and want to explore</td>\n",
       "    </tr>\n",
       "    <tr>\n",
       "      <th>1167</th>\n",
       "      <td>I agree with you but what can happen is that O...</td>\n",
       "    </tr>\n",
       "  </tbody>\n",
       "</table>\n",
       "<p>584 rows × 1 columns</p>\n",
       "</div>"
      ],
      "text/plain": [
       "                                                      0\n",
       "1     She's openly flirting with women and getting t...\n",
       "3     Also she might not be on the same page as you ...\n",
       "5     There’s no difference in what is to be expecte...\n",
       "7     I'm sorry but if her roommate was a male this ...\n",
       "9                                                    No\n",
       "...                                                 ...\n",
       "1159                                   Thats where I am\n",
       "1161  You should probably have asked for payment fir...\n",
       "1163                     If I could turn back time, lol\n",
       "1165                  You are young and want to explore\n",
       "1167  I agree with you but what can happen is that O...\n",
       "\n",
       "[584 rows x 1 columns]"
      ]
     },
     "execution_count": 120,
     "metadata": {},
     "output_type": "execute_result"
    }
   ],
   "source": [
    "df2.iloc[1:-2:2]"
   ]
  },
  {
   "cell_type": "code",
   "execution_count": 132,
   "metadata": {},
   "outputs": [
    {
     "data": {
      "text/plain": [
       "pandas.core.series.Series"
      ]
     },
     "execution_count": 132,
     "metadata": {},
     "output_type": "execute_result"
    }
   ],
   "source": [
    "type(final_df.context)\n",
    "type(df2[0].iloc[1:-2:2])"
   ]
  },
  {
   "cell_type": "code",
   "execution_count": 134,
   "metadata": {},
   "outputs": [
    {
     "data": {
      "text/html": [
       "<div>\n",
       "<style scoped>\n",
       "    .dataframe tbody tr th:only-of-type {\n",
       "        vertical-align: middle;\n",
       "    }\n",
       "\n",
       "    .dataframe tbody tr th {\n",
       "        vertical-align: top;\n",
       "    }\n",
       "\n",
       "    .dataframe thead th {\n",
       "        text-align: right;\n",
       "    }\n",
       "</style>\n",
       "<table border=\"1\" class=\"dataframe\">\n",
       "  <thead>\n",
       "    <tr style=\"text-align: right;\">\n",
       "      <th></th>\n",
       "      <th>response</th>\n",
       "      <th>context</th>\n",
       "    </tr>\n",
       "  </thead>\n",
       "  <tbody>\n",
       "    <tr>\n",
       "      <th>0</th>\n",
       "      <td>She's openly flirting with women and getting t...</td>\n",
       "      <td>my girlfriend has previously hooked up with he...</td>\n",
       "    </tr>\n",
       "    <tr>\n",
       "      <th>1</th>\n",
       "      <td>Also she might not be on the same page as you ...</td>\n",
       "      <td>She's openly flirting with women and getting t...</td>\n",
       "    </tr>\n",
       "    <tr>\n",
       "      <th>2</th>\n",
       "      <td>There’s no difference in what is to be expecte...</td>\n",
       "      <td>Bisexual gf was hooking up with her roommate</td>\n",
       "    </tr>\n",
       "    <tr>\n",
       "      <th>3</th>\n",
       "      <td>I'm sorry but if her roommate was a male this ...</td>\n",
       "      <td>There’s no difference in what is to be expecte...</td>\n",
       "    </tr>\n",
       "    <tr>\n",
       "      <th>4</th>\n",
       "      <td>No</td>\n",
       "      <td>; now that I have money, my father is demandin...</td>\n",
       "    </tr>\n",
       "    <tr>\n",
       "      <th>...</th>\n",
       "      <td>...</td>\n",
       "      <td>...</td>\n",
       "    </tr>\n",
       "    <tr>\n",
       "      <th>579</th>\n",
       "      <td>Thats where I am</td>\n",
       "      <td>From the other perspective, if someone offered...</td>\n",
       "    </tr>\n",
       "    <tr>\n",
       "      <th>580</th>\n",
       "      <td>You should probably have asked for payment fir...</td>\n",
       "      <td>How to ask for payment for puppysitting</td>\n",
       "    </tr>\n",
       "    <tr>\n",
       "      <th>581</th>\n",
       "      <td>If I could turn back time, lol</td>\n",
       "      <td>You should probably have asked for payment fir...</td>\n",
       "    </tr>\n",
       "    <tr>\n",
       "      <th>582</th>\n",
       "      <td>You are young and want to explore</td>\n",
       "      <td>Made plans to marry my boyfriend but now I wan...</td>\n",
       "    </tr>\n",
       "    <tr>\n",
       "      <th>583</th>\n",
       "      <td>I agree with you but what can happen is that O...</td>\n",
       "      <td>You are young and want to explore</td>\n",
       "    </tr>\n",
       "  </tbody>\n",
       "</table>\n",
       "<p>584 rows × 2 columns</p>\n",
       "</div>"
      ],
      "text/plain": [
       "                                              response  \\\n",
       "0    She's openly flirting with women and getting t...   \n",
       "1    Also she might not be on the same page as you ...   \n",
       "2    There’s no difference in what is to be expecte...   \n",
       "3    I'm sorry but if her roommate was a male this ...   \n",
       "4                                                   No   \n",
       "..                                                 ...   \n",
       "579                                   Thats where I am   \n",
       "580  You should probably have asked for payment fir...   \n",
       "581                     If I could turn back time, lol   \n",
       "582                  You are young and want to explore   \n",
       "583  I agree with you but what can happen is that O...   \n",
       "\n",
       "                                               context  \n",
       "0    my girlfriend has previously hooked up with he...  \n",
       "1    She's openly flirting with women and getting t...  \n",
       "2         Bisexual gf was hooking up with her roommate  \n",
       "3    There’s no difference in what is to be expecte...  \n",
       "4    ; now that I have money, my father is demandin...  \n",
       "..                                                 ...  \n",
       "579  From the other perspective, if someone offered...  \n",
       "580            How to ask for payment for puppysitting  \n",
       "581  You should probably have asked for payment fir...  \n",
       "582  Made plans to marry my boyfriend but now I wan...  \n",
       "583                  You are young and want to explore  \n",
       "\n",
       "[584 rows x 2 columns]"
      ]
     },
     "metadata": {},
     "output_type": "display_data"
    }
   ],
   "source": [
    "final_df = pd.DataFrame(columns=['response', 'context'])\n",
    "final_df.context = df2[0].iloc[:-2:2].values\n",
    "final_df.response = df2[0].iloc[1:-2:2].values # values, NOT set irectly on series (fails with NaN on second columns)\n",
    "display(final_df)"
   ]
  },
  {
   "cell_type": "code",
   "execution_count": 135,
   "metadata": {},
   "outputs": [],
   "source": [
    "df2.to_csv('./csv/duplicate_row2.csv')"
   ]
  },
  {
   "cell_type": "code",
   "execution_count": 136,
   "metadata": {},
   "outputs": [],
   "source": [
    "final_df.to_csv('./csv/response_context.csv')"
   ]
  },
  {
   "cell_type": "code",
   "execution_count": null,
   "metadata": {},
   "outputs": [],
   "source": []
  }
 ],
 "metadata": {
  "interpreter": {
   "hash": "c094f3eb032fe20a5a089e2bcfc7fb004c85a798d880e730160b0c576496d7df"
  },
  "kernelspec": {
   "display_name": "Python 3.8.10 64-bit ('v3': venv)",
   "language": "python",
   "name": "python3"
  },
  "language_info": {
   "codemirror_mode": {
    "name": "ipython",
    "version": 3
   },
   "file_extension": ".py",
   "mimetype": "text/x-python",
   "name": "python",
   "nbconvert_exporter": "python",
   "pygments_lexer": "ipython3",
   "version": "3.8.10"
  },
  "orig_nbformat": 4
 },
 "nbformat": 4,
 "nbformat_minor": 2
}
