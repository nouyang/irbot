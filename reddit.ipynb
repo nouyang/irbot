{
 "cells": [
  {
   "cell_type": "code",
   "execution_count": 1,
   "id": "9bf8788a-fee4-40c4-80c7-704a5157aa76",
   "metadata": {},
   "outputs": [],
   "source": [
    "import praw\n",
    "import pandas as pd"
   ]
  },
  {
   "cell_type": "code",
   "execution_count": 2,
   "id": "eea5d2b1",
   "metadata": {},
   "outputs": [
    {
     "name": "stdout",
     "output_type": "stream",
     "text": [
      "/home/nro/v3/bin/python\n"
     ]
    }
   ],
   "source": [
    "!which python"
   ]
  },
  {
   "cell_type": "code",
   "execution_count": 3,
   "id": "09b3f265-b26c-4476-8b22-9bdbe4c58e94",
   "metadata": {},
   "outputs": [],
   "source": [
    "reddit = praw.Reddit('irbot_readonly')"
   ]
  },
  {
   "cell_type": "code",
   "execution_count": 4,
   "id": "dd7ed01c-3d50-4472-8baf-b2868ecdf0b3",
   "metadata": {},
   "outputs": [
    {
     "name": "stdout",
     "output_type": "stream",
     "text": [
      "True\n"
     ]
    }
   ],
   "source": [
    "print(reddit.read_only)"
   ]
  },
  {
   "cell_type": "code",
   "execution_count": 5,
   "id": "529f4c6d-1b49-4907-87eb-1a4837486487",
   "metadata": {},
   "outputs": [
    {
     "name": "stdout",
     "output_type": "stream",
     "text": [
      "Ask Anything Monday - Weekly Thread\n",
      "I still don't understand the benefit of lambda functions\n",
      "is there any module I can import to detect keypresses without pressing enter?\n",
      "How do i get the content of a list to be print as just a string\n",
      "Bot on Selenium, any other reliable solutions for webscraping 24-7?\n",
      "Today I discovered f strings and it made my day\n",
      "It seems like arrays are almost always better from my perspective\n",
      "Convert Python Flask App to Standalone Desktiop Application\n",
      "Writing to file while looping and using try/except/else block. Why is it not writing to the file as it goes?\n",
      "Pandas - How do I subtract from columns of data?\n"
     ]
    }
   ],
   "source": [
    "for submission in reddit.subreddit(\"learnpython\").hot(limit=10):\n",
    "    print(submission.title)"
   ]
  },
  {
   "cell_type": "code",
   "execution_count": 6,
   "id": "199f28ff-b361-43af-93f0-c065a997af97",
   "metadata": {},
   "outputs": [
    {
     "name": "stdout",
     "output_type": "stream",
     "text": [
      "Object `modifiers` not found.\n"
     ]
    }
   ],
   "source": [
    "relations: NOT update, title and tldr and question amrk, take out the age/sex modifiers?\n",
    "\n",
    "#relationship advice: the title and the question mark\n",
    "#maybe a sentence beore the question amrk"
   ]
  },
  {
   "cell_type": "code",
   "execution_count": 24,
   "id": "94438a54-41c2-480c-9b3f-e9d50ea9f73d",
   "metadata": {},
   "outputs": [
    {
     "name": "stdout",
     "output_type": "stream",
     "text": [
      "Update to the pettiest question ever\n",
      "UPDATE: Me [36 M] married to my Wife [36 F] 11 years, and I can't stop thinking about a girl I dated for 1 month 16 years ago.\n"
     ]
    }
   ],
   "source": [
    "for submission in reddit.subreddit(\"relationships\").top(\"year\", limit=2):\n",
    "    print(submission.title)"
   ]
  },
  {
   "cell_type": "code",
   "execution_count": 25,
   "id": "5b50e0a0-7fd3-41a9-a3ac-3138ffdde452",
   "metadata": {},
   "outputs": [
    {
     "name": "stdout",
     "output_type": "stream",
     "text": [
      "UPDATE: I (30F) caught my husband (31M) in an affair and I don’t know how to move forward.\n",
      "Update to the pettiest question ever\n"
     ]
    }
   ],
   "source": [
    "for submission in reddit.subreddit(\"relationships\").top(limit=2):\n",
    "    print(submission.title)\n"
   ]
  },
  {
   "cell_type": "code",
   "execution_count": 26,
   "id": "860da14a-28a9-4b9a-aa75-a1f13804a71d",
   "metadata": {},
   "outputs": [
    {
     "name": "stdout",
     "output_type": "stream",
     "text": [
      "The update no one knew they needed\n",
      "Updates like this to seemingly irrelevant, old posts are pure gold\n",
      "I just want to see the before and after, I'm intrigued af now\n"
     ]
    }
   ],
   "source": [
    "for top_level_comment in submission.comments[:3]:\n",
    "    print(top_level_comment.body)"
   ]
  },
  {
   "cell_type": "code",
   "execution_count": 27,
   "id": "2a3da793-ce4f-4631-90ba-0f4b24576d4e",
   "metadata": {},
   "outputs": [
    {
     "name": "stdout",
     "output_type": "stream",
     "text": [
      "246\n"
     ]
    }
   ],
   "source": [
    "print(submission.num_comments)"
   ]
  },
  {
   "cell_type": "code",
   "execution_count": null,
   "id": "e8257fc4-5fdb-4db4-8046-dcee0de2d935",
   "metadata": {},
   "outputs": [],
   "source": [
    "\n"
   ]
  },
  {
   "cell_type": "code",
   "execution_count": 28,
   "id": "b7e0ac4b-81fe-4ed4-b3cc-7821d5ffab41",
   "metadata": {},
   "outputs": [
    {
     "name": "stdout",
     "output_type": "stream",
     "text": [
      "None\n"
     ]
    }
   ],
   "source": [
    "print(submission.content_categories)"
   ]
  },
  {
   "cell_type": "code",
   "execution_count": 29,
   "id": "6189c7fe-6e5d-46d1-b1ab-6133a8a02fd2",
   "metadata": {},
   "outputs": [
    {
     "data": {
      "text/plain": [
       "14624"
      ]
     },
     "execution_count": 29,
     "metadata": {},
     "output_type": "execute_result"
    }
   ],
   "source": [
    "submission.score"
   ]
  },
  {
   "cell_type": "code",
   "execution_count": 30,
   "id": "c283f88f-b59f-4d66-b08a-c2479edcbf7c",
   "metadata": {},
   "outputs": [
    {
     "data": {
      "text/plain": [
       "\"Update to this petty thing: [https://old.reddit.com/r/relationships/comments/3hi08p/stupidest\\\\_question\\\\_ever\\\\_is\\\\_there\\\\_any\\\\_polite\\\\_way/](https://old.reddit.com/r/relationships/comments/3hi08p/stupidest_question_ever_is_there_any_polite_way/)\\n\\nIt  took 5 years and a marriage and he curled his eyelashes last week. He found my eyelash curler and asked what it was for and I told him how to test it on himself. He said he didn't notice any difference but his eyes sparkled for the first time.\\n\\nHe's not going to keep doing it but at least I know what his pupils look like now lol\\n\\nTL;DR: I didn't ask him, he asked me.\""
      ]
     },
     "execution_count": 30,
     "metadata": {},
     "output_type": "execute_result"
    }
   ],
   "source": [
    "submission.selftext"
   ]
  },
  {
   "cell_type": "code",
   "execution_count": 31,
   "id": "defaee9d-93bb-45e5-9729-c7629248b022",
   "metadata": {},
   "outputs": [
    {
     "ename": "ModuleNotFoundError",
     "evalue": "No module named 'nltk'",
     "output_type": "error",
     "traceback": [
      "\u001b[0;31m---------------------------------------------------------------------------\u001b[0m",
      "\u001b[0;31mModuleNotFoundError\u001b[0m                       Traceback (most recent call last)",
      "\u001b[0;32m<ipython-input-31-c725db6fcd0e>\u001b[0m in \u001b[0;36m<module>\u001b[0;34m\u001b[0m\n\u001b[0;32m----> 1\u001b[0;31m \u001b[0;32mimport\u001b[0m \u001b[0mnltk\u001b[0m\u001b[0;34m\u001b[0m\u001b[0;34m\u001b[0m\u001b[0m\n\u001b[0m\u001b[1;32m      2\u001b[0m \u001b[0;32mfrom\u001b[0m \u001b[0mnltk\u001b[0m\u001b[0;34m.\u001b[0m\u001b[0mtokenize\u001b[0m \u001b[0;32mimport\u001b[0m \u001b[0mRegexpTokenizer\u001b[0m\u001b[0;34m\u001b[0m\u001b[0;34m\u001b[0m\u001b[0m\n\u001b[1;32m      3\u001b[0m \u001b[0;32mfrom\u001b[0m \u001b[0mnltk\u001b[0m\u001b[0;34m.\u001b[0m\u001b[0mstem\u001b[0m \u001b[0;32mimport\u001b[0m \u001b[0mWordNetLemmatizer\u001b[0m\u001b[0;34m,\u001b[0m\u001b[0mPorterStemmer\u001b[0m\u001b[0;34m\u001b[0m\u001b[0;34m\u001b[0m\u001b[0m\n\u001b[1;32m      4\u001b[0m \u001b[0;32mfrom\u001b[0m \u001b[0mnltk\u001b[0m\u001b[0;34m.\u001b[0m\u001b[0mcorpus\u001b[0m \u001b[0;32mimport\u001b[0m \u001b[0mstopwords\u001b[0m\u001b[0;34m\u001b[0m\u001b[0;34m\u001b[0m\u001b[0m\n\u001b[1;32m      5\u001b[0m \u001b[0;32mimport\u001b[0m \u001b[0mre\u001b[0m\u001b[0;34m\u001b[0m\u001b[0;34m\u001b[0m\u001b[0m\n",
      "\u001b[0;31mModuleNotFoundError\u001b[0m: No module named 'nltk'"
     ]
    }
   ],
   "source": [
    "import nltk\n",
    "from nltk.tokenize import RegexpTokenizer\n",
    "from nltk.stem import WordNetLemmatizer,PorterStemmer\n",
    "from nltk.corpus import stopwords\n",
    "import re\n",
    "lemmatizer = WordNetLemmatizer()\n",
    "stemmer = PorterStemmer() "
   ]
  },
  {
   "cell_type": "code",
   "execution_count": null,
   "id": "eb10d2df-4a92-41ce-a3a2-f637365b427c",
   "metadata": {},
   "outputs": [
    {
     "name": "stderr",
     "output_type": "stream",
     "text": [
      "[nltk_data] Downloading package stopwords to /home/nrw/nltk_data...\n",
      "[nltk_data]   Package stopwords is already up-to-date!\n",
      "[nltk_data] Downloading package wordnet to /home/nrw/nltk_data...\n",
      "[nltk_data]   Package wordnet is already up-to-date!\n",
      "[nltk_data] Downloading package omw-1.4 to /home/nrw/nltk_data...\n",
      "[nltk_data]   Unzipping corpora/omw-1.4.zip.\n"
     ]
    },
    {
     "data": {
      "text/plain": [
       "True"
      ]
     },
     "execution_count": 28,
     "metadata": {},
     "output_type": "execute_result"
    }
   ],
   "source": [
    "nltk.download('stopwords')\n",
    "nltk.download('wordnet')\n",
    "nltk.download('omw-1.4')"
   ]
  },
  {
   "cell_type": "code",
   "execution_count": null,
   "id": "55bee0bd-bb84-448f-be5a-9301b7813350",
   "metadata": {},
   "outputs": [],
   "source": [
    "# https://www.analyticsvidhya.com/blog/2020/11/text-cleaning-nltk-library/\n",
    "# \n",
    "\n",
    "# a. Stemming: A technique that takes the word to its root form. It just removes suffixes from the words\n",
    "# b. Lemmatization: Takes the word to its root form called Lemma. It helps to bring words to their dictionary form. It is applied to nouns by default.\n",
    "def preprocess(sentence):\n",
    "    sentence=str(sentence)\n",
    "    sentence = sentence.lower()\n",
    "    #sentence=sentence.replace('{html}',\"\") \n",
    "    cleanr = re.compile('<.*?>')\n",
    "    cleantext = re.sub(cleanr, '', sentence)\n",
    "    '''\n",
    "    # https://nickmccullum.com/clean-text-machine-learning-python/\n",
    "    rem_url=re.sub(r'http\\S+', '',cleantext)\n",
    "    rem_num = re.sub('[0-9]+', '', rem_url)\n",
    "    tokenizer = RegexpTokenizer(r'\\w+')\n",
    "    tokens = tokenizer.tokenize(rem_num)  \n",
    "    filtered_words = [w for w in tokens if len(w) > 2 if not w in stopwords.words('english')]\n",
    "    stem_words=[stemmer.stem(w) for w in filtered_words]\n",
    "    lemma_words=[lemmatizer.lemmatize(w) for w in stem_words]\n",
    "    '''\n",
    "    return \" \".join(filtered_words)\n",
    "    "
   ]
  },
  {
   "cell_type": "code",
   "execution_count": 239,
   "id": "54f2ba91-035c-409c-82b4-f2bf43805937",
   "metadata": {},
   "outputs": [],
   "source": [
    "import re\n",
    "import string\n",
    "\n",
    "def clean_text(sentence):\n",
    "    #my_tokens = sentence.split()\n",
    "    my_tokens = re.findall(\"[\\w']+\", sentence)\n",
    "    #return my_tokens\n",
    "    #print([token.translate(str.maketrans('', '', string.punctuation)) for token in my_tokens])\n",
    "    #return [token.translate(str.maketrans('', '', string.punctuation)) for token in my_tokens]\n",
    "    \n",
    "    #[token.lower() for token in my_tokens]\n",
    "    "
   ]
  },
  {
   "cell_type": "code",
   "execution_count": 240,
   "id": "76dbfc88-1f22-4d7e-9db8-2a1b2cf29385",
   "metadata": {},
   "outputs": [],
   "source": [
    "clean_text(submission.selftext)"
   ]
  },
  {
   "cell_type": "code",
   "execution_count": 55,
   "id": "cf0a98f8-51d1-413f-b549-d3d8449d0da3",
   "metadata": {},
   "outputs": [
    {
     "name": "stdout",
     "output_type": "stream",
     "text": [
      "['Update', 'to', 'this', 'petty', 'thing', 'httpsoldredditcomrrelationshipscomments3hi08pstupidestquestioneveristhereanypolitewayhttpsoldredditcomrrelationshipscomments3hi08pstupidestquestioneveristhereanypoliteway', 'It', 'took', '5', 'years', 'and', 'a', 'marriage', 'and', 'he', 'curled', 'his', 'eyelashes', 'last', 'week', 'He', 'found', 'my', 'eyelash', 'curler', 'and', 'asked', 'what', 'it', 'was', 'for', 'and', 'I', 'told', 'him', 'how', 'to', 'test', 'it', 'on', 'himself', 'He', 'said', 'he', 'didnt', 'notice', 'any', 'difference', 'but', 'his', 'eyes', 'sparkled', 'for', 'the', 'first', 'time', 'Hes', 'not', 'going', 'to', 'keep', 'doing', 'it', 'but', 'at', 'least', 'I', 'know', 'what', 'his', 'pupils', 'look', 'like', 'now', 'lol', 'TLDR', 'I', 'didnt', 'ask', 'him', 'he', 'asked', 'me']\n"
     ]
    }
   ],
   "source": [
    "foo_list = clean_text(submission.selftext)\n"
   ]
  },
  {
   "cell_type": "code",
   "execution_count": 56,
   "id": "ce52f0e6-b670-4a2c-9153-10e28446808b",
   "metadata": {},
   "outputs": [],
   "source": [
    "#df['cleanText']=df['Text'].map(lambda s:preprocess(s)) "
   ]
  },
  {
   "cell_type": "code",
   "execution_count": 57,
   "id": "c65df959",
   "metadata": {},
   "outputs": [
    {
     "name": "stdout",
     "output_type": "stream",
     "text": [
      "['Update', 'to', 'this', 'petty', 'thing', 'httpsoldredditcomrrelationshipscomments3hi08pstupidestquestioneveristhereanypolitewayhttpsoldredditcomrrelationshipscomments3hi08pstupidestquestioneveristhereanypoliteway', 'It', 'took', '5', 'years', 'and', 'a', 'marriage', 'and', 'he', 'curled', 'his', 'eyelashes', 'last', 'week', 'He', 'found', 'my', 'eyelash', 'curler', 'and', 'asked', 'what', 'it', 'was', 'for', 'and', 'I', 'told', 'him', 'how', 'to', 'test', 'it', 'on', 'himself', 'He', 'said', 'he', 'didnt', 'notice', 'any', 'difference', 'but', 'his', 'eyes', 'sparkled', 'for', 'the', 'first', 'time', 'Hes', 'not', 'going', 'to', 'keep', 'doing', 'it', 'but', 'at', 'least', 'I', 'know', 'what', 'his', 'pupils', 'look', 'like', 'now', 'lol', 'TLDR', 'I', 'didnt', 'ask', 'him', 'he', 'asked', 'me']\n"
     ]
    }
   ],
   "source": [
    "print(foo_list)"
   ]
  },
  {
   "cell_type": "code",
   "execution_count": 104,
   "id": "c2275d3d",
   "metadata": {},
   "outputs": [],
   "source": [
    "df = pd.DataFrame(foo_list)"
   ]
  },
  {
   "cell_type": "code",
   "execution_count": 105,
   "id": "f6188a83",
   "metadata": {},
   "outputs": [],
   "source": [
    "df.to_csv('tmp.csv')"
   ]
  },
  {
   "cell_type": "code",
   "execution_count": 99,
   "id": "2d07b7da",
   "metadata": {},
   "outputs": [],
   "source": [
    "import csv \n",
    "\n",
    "with open('tmp.csv','w', newline='') as result_file:\n",
    "    wr = csv.writer(result_file)\n",
    "    wr.writerows([foo_list])"
   ]
  },
  {
   "cell_type": "code",
   "execution_count": 100,
   "id": "86700088",
   "metadata": {},
   "outputs": [
    {
     "name": "stdout",
     "output_type": "stream",
     "text": [
      "Update,to,this,petty,thing,httpsoldredditcomrrelationshipscomments3hi08pstupidestquestioneveristhereanypolitewayhttpsoldredditcomrrelationshipscomments3hi08pstupidestquestioneveristhereanypoliteway,It,took,5,years,and,a,marriage,and,he,curled,his,eyelashes,last,week,He,found,my,eyelash,curler,and,asked,what,it,was,for,and,I,told,him,how,to,test,it,on,himself,He,said,he,didnt,notice,any,difference,but,his,eyes,sparkled,for,the,first,time,Hes,not,going,to,keep,doing,it,but,at,least,I,know,what,his,pupils,look,like,now,lol,TLDR,I,didnt,ask,him,he,asked,me\n"
     ]
    }
   ],
   "source": [
    "!head \"tmp.csv\""
   ]
  },
  {
   "cell_type": "code",
   "execution_count": 101,
   "id": "2d311efa",
   "metadata": {},
   "outputs": [
    {
     "name": "stdout",
     "output_type": "stream",
     "text": [
      "cached\t\t\tnetflix_titles.csv  reddit.py\n",
      "example_huggingface.py\tnotes_praw.txt\t    results\n",
      "gpt_machinecurve.py\todd.csv\t\t    RickAndMortyScripts.csv\n",
      "GPTRick.ipynb\t\toutput.csv\t    runs\n",
      "irbot.ipynb\t\tpraw.ini\t    sigtbd-irbot.pdf\n",
      "irbot_test.py\t\tREADME.md\t    tmp.csv\n",
      "LICENSE\t\t\treddit.ipynb\n"
     ]
    }
   ],
   "source": [
    "!ls"
   ]
  },
  {
   "cell_type": "code",
   "execution_count": 102,
   "id": "8fc3a3e2",
   "metadata": {},
   "outputs": [
    {
     "data": {
      "text/html": [
       "<div>\n",
       "<style scoped>\n",
       "    .dataframe tbody tr th:only-of-type {\n",
       "        vertical-align: middle;\n",
       "    }\n",
       "\n",
       "    .dataframe tbody tr th {\n",
       "        vertical-align: top;\n",
       "    }\n",
       "\n",
       "    .dataframe thead th {\n",
       "        text-align: right;\n",
       "    }\n",
       "</style>\n",
       "<table border=\"1\" class=\"dataframe\">\n",
       "  <thead>\n",
       "    <tr style=\"text-align: right;\">\n",
       "      <th></th>\n",
       "      <th>Update</th>\n",
       "      <th>to</th>\n",
       "      <th>this</th>\n",
       "      <th>petty</th>\n",
       "      <th>thing</th>\n",
       "      <th>httpsoldredditcomrrelationshipscomments3hi08pstupidestquestioneveristhereanypolitewayhttpsoldredditcomrrelationshipscomments3hi08pstupidestquestioneveristhereanypoliteway</th>\n",
       "      <th>It</th>\n",
       "      <th>took</th>\n",
       "      <th>5</th>\n",
       "      <th>years</th>\n",
       "      <th>...</th>\n",
       "      <th>now</th>\n",
       "      <th>lol</th>\n",
       "      <th>TLDR</th>\n",
       "      <th>I.2</th>\n",
       "      <th>didnt.1</th>\n",
       "      <th>ask</th>\n",
       "      <th>him.1</th>\n",
       "      <th>he.2</th>\n",
       "      <th>asked.1</th>\n",
       "      <th>me</th>\n",
       "    </tr>\n",
       "  </thead>\n",
       "  <tbody>\n",
       "  </tbody>\n",
       "</table>\n",
       "<p>0 rows × 83 columns</p>\n",
       "</div>"
      ],
      "text/plain": [
       "Empty DataFrame\n",
       "Columns: [Update, to, this, petty, thing, httpsoldredditcomrrelationshipscomments3hi08pstupidestquestioneveristhereanypolitewayhttpsoldredditcomrrelationshipscomments3hi08pstupidestquestioneveristhereanypoliteway, It, took, 5, years, and, a, marriage, and.1, he, curled, his, eyelashes, last, week, He, found, my, eyelash, curler, and.2, asked, what, it, was, for, and.3, I, told, him, how, to.1, test, it.1, on, himself, He.1, said, he.1, didnt, notice, any, difference, but, his.1, eyes, sparkled, for.1, the, first, time, Hes, not, going, to.2, keep, doing, it.2, but.1, at, least, I.1, know, what.1, his.2, pupils, look, like, now, lol, TLDR, I.2, didnt.1, ask, him.1, he.2, asked.1, me]\n",
       "Index: []\n",
       "\n",
       "[0 rows x 83 columns]"
      ]
     },
     "execution_count": 102,
     "metadata": {},
     "output_type": "execute_result"
    }
   ],
   "source": [
    "pd.read_csv('tmp.csv')"
   ]
  },
  {
   "cell_type": "code",
   "execution_count": 106,
   "id": "ae41ea8a",
   "metadata": {},
   "outputs": [
    {
     "name": "stdout",
     "output_type": "stream",
     "text": [
      "True\n",
      "Ask Anything Monday - Weekly Thread\n",
      "I still don't understand the benefit of lambda functions\n",
      "is there any module I can import to detect keypresses without pressing enter?\n",
      "How do i get the content of a list to be print as just a string\n",
      "Bot on Selenium, any other reliable solutions for webscraping 24-7?\n",
      "Today I discovered f strings and it made my day\n",
      "Hello, Guys. Please help me to understand the below code.\n",
      "From where to start ?\n",
      "It seems like arrays are almost always better from my perspective\n",
      "Convert Python Flask App to Standalone Desktiop Application\n"
     ]
    }
   ],
   "source": [
    "import praw\n",
    "import pandas as pd \n",
    "\n",
    "reddit = praw.Reddit('irbot_readonly')\n",
    "\n",
    "print(reddit.read_only)\n",
    "# https://praw.readthedocs.io/en/latest/code_overview/other/commentforest.html"
   ]
  },
  {
   "cell_type": "code",
   "execution_count": 201,
   "id": "479c3f24",
   "metadata": {},
   "outputs": [
    {
     "name": "stdout",
     "output_type": "stream",
     "text": [
      "UPDATE I'm (27F) concerned about attending my sister's (30F) wedding after major lifestyle changes\n",
      "UPDATE: My (23F) friend (23F) sent nudes to my husband (31M) and he rejected her but never told me anything.\n",
      "She sounds like the kind of person that changes to fit the situation (first lying, then excuses, then accusations). Next comes the apologetic phase if she really wants to regain your friendship or feels there is anything to gain [even at your loss again]... I recommend declining and putting your foot down and saying absolutely not and don't let her back in your life. You sound hesitant about letting it end at the end of your post, and for your future, I hope that becomes a firm \"I am better off now without her\".\n",
      "\n",
      "Good luck!\n",
      "[original post](https://www.reddit.com/r/relationships/comments/rylxex/my_23f_friend_23f_sent_nudes_to_my_husband_31m/?utm_medium=android_app&utm_source=share)\n",
      "\n",
      "\n",
      "When I posted that, I hadn't talked to my friend yet, I wasn't going to confront her on the phone, we had to have a face to face talk. So when I got back from my trip two days ago I decided to go to her house, and I told her everything I saw and of course she made up a thousand excuses. And being honest that pissed me off because she was playing the victim, and I wasn't going to believe that shit, so I told her to stop lying but she kept lying and lying and she was getting on my nerves, so I started crying because it hurt me to see how she was lying like we hadn't been best friends for years. And apparently that made her mad, because she started saying so many horrible things that I couldn't even believe she was saying that.\n",
      "\n",
      "She said that she always got what she wanted and that she couldn't understand how someone like me could get what she wanted so much, And even tried to make me look like the bad guy and accused me of harassing my husband in the past, she says that because I went to the same college where he was doing his PhD, but I didn't know that because I never had contact with him, it was a coincidence. And she knows that perfectly well but she kept saying things like that anyway. She told me that I hooked up with him because I wanted to prove to her that I can also get what I want. But that's not true, I never planned any of this, it just happened, but according to her I'm the psychopath who harassed him and trapped him with a baby that he didn't want. Which is also a lie because our baby was planned and she knows that too, so I don't know why she was saying those things. It's like she's gone crazy or something.\n",
      "\n",
      "What hurts the most is that it is as if she thinks that our years of friendship were just a competition, a competition about who was the prettiest (but I always knew this because she was always the prettiest and I was her shadow but I was fine with that) the most intelligent, the most successful with men, etc. But for me our friendship was more than that, I really loved her and I would never have thought that everything would end like this, because I trusted her with my whole life. She was there when I took my pregnancy test, when I was pregnant, and even when my daughter was born, and those moments were really important in my life and she knew it, so I dont know what happened to her reacting like this she is acting like a psycho and it honestly scares me. If my husband didn't reject her, was she going to sleep with him while pretending to be my friend? Just thinking about it makes me feel sick to my stomach. \n",
      "\n",
      "I told her that now she is dead to me and she didn't even care, she kept trying to make me feel bad, and of course I left, I didn't want to listen to her. I just want everything that happened to be a dream, but since it isn't, I guess from now on I'll have to learn to live without her. But that's my therapist's business, not Reddit's. \n",
      "\n",
      "\n",
      "Tl;dr: \"I talked to my friend, she made excuses and said horrible things about me and we fought, and I told her that from now on she is dead to me \"\n",
      "249\n"
     ]
    }
   ],
   "source": [
    "for submission in reddit.subreddit(\"relationships\").top(\"month\", limit=2):\n",
    "    print(submission.title)\n",
    "\n",
    "for top_level_comment in submission.comments[:1]:\n",
    "    print(top_level_comment.body)\n",
    "    print(submission.selftext)\n",
    "    print(submission.num_comments)\n"
   ]
  },
  {
   "cell_type": "code",
   "execution_count": 223,
   "id": "3afe829e",
   "metadata": {},
   "outputs": [
    {
     "data": {
      "text/plain": [
       "'She sounds like the kind of person that changes to fit the situation (first lying, then excuses, then accusations). Next comes the apologetic phase if she really wants to regain your friendship or feels there is anything to gain [even at your loss again]... I recommend declining and putting your foot down and saying absolutely not and don\\'t let her back in your life. You sound hesitant about letting it end at the end of your post, and for your future, I hope that becomes a firm \"I am better off now without her\".\\n\\nGood luck!'"
      ]
     },
     "execution_count": 223,
     "metadata": {},
     "output_type": "execute_result"
    }
   ],
   "source": [
    "top_level_comment.body"
   ]
  },
  {
   "cell_type": "code",
   "execution_count": 221,
   "id": "1f58aacd",
   "metadata": {},
   "outputs": [
    {
     "data": {
      "text/plain": [
       "\"I hope so, too.  OP is *much* better off without that person in her life, a person who would try to destroy OPs happiness like that.  I don't think she ever was OP's friend.  It sounds to me like she was always jealous of OP.\""
      ]
     },
     "execution_count": 221,
     "metadata": {},
     "output_type": "execute_result"
    }
   ],
   "source": [
    "#comment.reply_sort = \"top\"\n",
    "top_level_comment.replies[0].body"
   ]
  },
  {
   "cell_type": "code",
   "execution_count": 202,
   "id": "8d1477af",
   "metadata": {},
   "outputs": [
    {
     "data": {
      "text/plain": [
       "'\\n$ head RickAndMortyScripts.csv \\nindex,season no.,episode no.,episode name,name,line\\n0,1,1,Pilot,Rick,Morty! You gotta come on. Jus\\'... you gotta come with me.\\n1,1,1,Pilot,Morty,\"What, Rick? What’s going on?\"\\n2,1,1,Pilot,Rick,\"I got a surprise for you, Morty.\"\\n3,1,1,Pilot,Morty,It\\'s the middle of the night. What are you talking about?\\n4,1,1,Pilot,Rick,\"Come on, I got a surprise for you.  Come on, hurry up.\"\\n\\n'"
      ]
     },
     "execution_count": 202,
     "metadata": {},
     "output_type": "execute_result"
    }
   ],
   "source": [
    "\"\"\"\n",
    "$ head RickAndMortyScripts.csv \n",
    "index,season no.,episode no.,episode name,name,line\n",
    "0,1,1,Pilot,Rick,Morty! You gotta come on. Jus'... you gotta come with me.\n",
    "1,1,1,Pilot,Morty,\"What, Rick? What’s going on?\"\n",
    "2,1,1,Pilot,Rick,\"I got a surprise for you, Morty.\"\n",
    "3,1,1,Pilot,Morty,It's the middle of the night. What are you talking about?\n",
    "4,1,1,Pilot,Rick,\"Come on, I got a surprise for you.  Come on, hurry up.\"\n",
    "\n",
    "\"\"\""
   ]
  },
  {
   "cell_type": "code",
   "execution_count": 203,
   "id": "78bfa630",
   "metadata": {},
   "outputs": [
    {
     "name": "stdout",
     "output_type": "stream",
     "text": [
      "found match\n"
     ]
    }
   ],
   "source": [
    "string=\"Simple is better than complex\"\n",
    "pattern=\"Simple\"\n",
    "if re.match(pattern, string):\n",
    "    print (\"found match\")\n",
    "else:\n",
    "    print(\"match not found\")\n"
   ]
  },
  {
   "cell_type": "code",
   "execution_count": 204,
   "id": "e4fc3ee0",
   "metadata": {},
   "outputs": [
    {
     "name": "stdout",
     "output_type": "stream",
     "text": [
      "Tl;dr\n"
     ]
    },
    {
     "data": {
      "text/plain": [
       "'\"I talked to my friend, she made excuses and said horrible things about me and we fought, and I told her that from now on she is dead to me \"'"
      ]
     },
     "execution_count": 204,
     "metadata": {},
     "output_type": "execute_result"
    }
   ],
   "source": [
    "string = submission.selftext\n",
    "string = re.sub(r'[*:]+', '', string )\n",
    "result = re.search('TL[;]*DR', string, re.IGNORECASE)\n",
    "\n",
    "print(result.group())\n",
    "string.split(result.group())[-1].strip()"
   ]
  },
  {
   "cell_type": "markdown",
   "id": "cf3a1a71",
   "metadata": {},
   "source": [
    "submission.selftext"
   ]
  },
  {
   "cell_type": "code",
   "execution_count": 205,
   "id": "07772ea4",
   "metadata": {},
   "outputs": [],
   "source": [
    "title = submission.title.lower()\n",
    "title = re.sub(r'[^a-zA-Z0-9]',' ', title)"
   ]
  },
  {
   "cell_type": "code",
   "execution_count": 206,
   "id": "6280c0fc",
   "metadata": {},
   "outputs": [
    {
     "data": {
      "text/plain": [
       "True"
      ]
     },
     "execution_count": 206,
     "metadata": {},
     "output_type": "execute_result"
    }
   ],
   "source": [
    "'update' in title.split(' ')[:5] "
   ]
  },
  {
   "cell_type": "code",
   "execution_count": 207,
   "id": "b9df805c",
   "metadata": {},
   "outputs": [
    {
     "data": {
      "text/plain": [
       "['\"i',\n",
       " 'talked',\n",
       " 'to',\n",
       " 'my',\n",
       " 'friend,',\n",
       " 'she',\n",
       " 'made',\n",
       " 'excuses',\n",
       " 'and',\n",
       " 'said',\n",
       " 'horrible',\n",
       " 'things',\n",
       " 'about',\n",
       " 'me',\n",
       " 'and',\n",
       " 'we',\n",
       " 'fought,',\n",
       " 'and',\n",
       " 'i',\n",
       " 'told',\n",
       " 'her',\n",
       " 'that',\n",
       " 'from',\n",
       " 'now',\n",
       " 'on',\n",
       " 'she',\n",
       " 'is',\n",
       " 'dead',\n",
       " 'to',\n",
       " 'me',\n",
       " '\"']"
      ]
     },
     "execution_count": 207,
     "metadata": {},
     "output_type": "execute_result"
    }
   ],
   "source": [
    "submission.selftext.lower().split()[-31:] # 31 words"
   ]
  },
  {
   "cell_type": "code",
   "execution_count": 208,
   "id": "93986929",
   "metadata": {},
   "outputs": [
    {
     "data": {
      "text/plain": [
       "' i talked to my friend she made excuses and said horrible things about me and we fought and i told her that from now on she is dead to me '"
      ]
     },
     "execution_count": 208,
     "metadata": {},
     "output_type": "execute_result"
    }
   ],
   "source": [
    "text = submission.selftext\n",
    "text = text.lower().strip().split()\n",
    "text = [re.sub(r'[\\W+]', '', a) for a in text[-40:]]\n",
    "'tldr' in text\n",
    "\n",
    "' '.join(text).split('tldr')[-1]\n"
   ]
  },
  {
   "cell_type": "code",
   "execution_count": 233,
   "id": "fccaefc8",
   "metadata": {},
   "outputs": [
    {
     "data": {
      "text/plain": [
       "str"
      ]
     },
     "execution_count": 233,
     "metadata": {},
     "output_type": "execute_result"
    }
   ],
   "source": [
    "type(submission.title)"
   ]
  },
  {
   "cell_type": "code",
   "execution_count": 230,
   "id": "7fb08570",
   "metadata": {},
   "outputs": [
    {
     "ename": "AttributeError",
     "evalue": "'str' object has no attribute 'punctuation'",
     "output_type": "error",
     "traceback": [
      "\u001b[0;31m---------------------------------------------------------------------------\u001b[0m",
      "\u001b[0;31mAttributeError\u001b[0m                            Traceback (most recent call last)",
      "\u001b[0;32m<ipython-input-230-b9ca8f9ea25f>\u001b[0m in \u001b[0;36m<module>\u001b[0;34m\u001b[0m\n\u001b[0;32m----> 1\u001b[0;31m \u001b[0mclean_text\u001b[0m\u001b[0;34m(\u001b[0m\u001b[0msubmission\u001b[0m\u001b[0;34m.\u001b[0m\u001b[0mtitle\u001b[0m\u001b[0;34m)\u001b[0m\u001b[0;34m\u001b[0m\u001b[0;34m\u001b[0m\u001b[0m\n\u001b[0m",
      "\u001b[0;32m<ipython-input-48-422f9d292627>\u001b[0m in \u001b[0;36mclean_text\u001b[0;34m(sentence)\u001b[0m\n\u001b[1;32m      5\u001b[0m     \u001b[0mmy_tokens\u001b[0m \u001b[0;34m=\u001b[0m \u001b[0msentence\u001b[0m\u001b[0;34m.\u001b[0m\u001b[0msplit\u001b[0m\u001b[0;34m(\u001b[0m\u001b[0;34m)\u001b[0m\u001b[0;34m\u001b[0m\u001b[0;34m\u001b[0m\u001b[0m\n\u001b[1;32m      6\u001b[0m     \u001b[0mre\u001b[0m\u001b[0;34m.\u001b[0m\u001b[0mfindall\u001b[0m\u001b[0;34m(\u001b[0m\u001b[0;34m\"[\\w']+\"\u001b[0m\u001b[0;34m,\u001b[0m \u001b[0msentence\u001b[0m\u001b[0;34m)\u001b[0m\u001b[0;34m\u001b[0m\u001b[0;34m\u001b[0m\u001b[0m\n\u001b[0;32m----> 7\u001b[0;31m     \u001b[0mprint\u001b[0m\u001b[0;34m(\u001b[0m\u001b[0;34m[\u001b[0m\u001b[0mtoken\u001b[0m\u001b[0;34m.\u001b[0m\u001b[0mtranslate\u001b[0m\u001b[0;34m(\u001b[0m\u001b[0mstr\u001b[0m\u001b[0;34m.\u001b[0m\u001b[0mmaketrans\u001b[0m\u001b[0;34m(\u001b[0m\u001b[0;34m''\u001b[0m\u001b[0;34m,\u001b[0m \u001b[0;34m''\u001b[0m\u001b[0;34m,\u001b[0m \u001b[0mstring\u001b[0m\u001b[0;34m.\u001b[0m\u001b[0mpunctuation\u001b[0m\u001b[0;34m)\u001b[0m\u001b[0;34m)\u001b[0m \u001b[0;32mfor\u001b[0m \u001b[0mtoken\u001b[0m \u001b[0;32min\u001b[0m \u001b[0mmy_tokens\u001b[0m\u001b[0;34m]\u001b[0m\u001b[0;34m)\u001b[0m\u001b[0;34m\u001b[0m\u001b[0;34m\u001b[0m\u001b[0m\n\u001b[0m\u001b[1;32m      8\u001b[0m     \u001b[0;32mreturn\u001b[0m \u001b[0;34m[\u001b[0m\u001b[0mtoken\u001b[0m\u001b[0;34m.\u001b[0m\u001b[0mtranslate\u001b[0m\u001b[0;34m(\u001b[0m\u001b[0mstr\u001b[0m\u001b[0;34m.\u001b[0m\u001b[0mmaketrans\u001b[0m\u001b[0;34m(\u001b[0m\u001b[0;34m''\u001b[0m\u001b[0;34m,\u001b[0m \u001b[0;34m''\u001b[0m\u001b[0;34m,\u001b[0m \u001b[0mstring\u001b[0m\u001b[0;34m.\u001b[0m\u001b[0mpunctuation\u001b[0m\u001b[0;34m)\u001b[0m\u001b[0;34m)\u001b[0m \u001b[0;32mfor\u001b[0m \u001b[0mtoken\u001b[0m \u001b[0;32min\u001b[0m \u001b[0mmy_tokens\u001b[0m\u001b[0;34m]\u001b[0m\u001b[0;34m\u001b[0m\u001b[0;34m\u001b[0m\u001b[0m\n\u001b[1;32m      9\u001b[0m \u001b[0;34m\u001b[0m\u001b[0m\n",
      "\u001b[0;32m<ipython-input-48-422f9d292627>\u001b[0m in \u001b[0;36m<listcomp>\u001b[0;34m(.0)\u001b[0m\n\u001b[1;32m      5\u001b[0m     \u001b[0mmy_tokens\u001b[0m \u001b[0;34m=\u001b[0m \u001b[0msentence\u001b[0m\u001b[0;34m.\u001b[0m\u001b[0msplit\u001b[0m\u001b[0;34m(\u001b[0m\u001b[0;34m)\u001b[0m\u001b[0;34m\u001b[0m\u001b[0;34m\u001b[0m\u001b[0m\n\u001b[1;32m      6\u001b[0m     \u001b[0mre\u001b[0m\u001b[0;34m.\u001b[0m\u001b[0mfindall\u001b[0m\u001b[0;34m(\u001b[0m\u001b[0;34m\"[\\w']+\"\u001b[0m\u001b[0;34m,\u001b[0m \u001b[0msentence\u001b[0m\u001b[0;34m)\u001b[0m\u001b[0;34m\u001b[0m\u001b[0;34m\u001b[0m\u001b[0m\n\u001b[0;32m----> 7\u001b[0;31m     \u001b[0mprint\u001b[0m\u001b[0;34m(\u001b[0m\u001b[0;34m[\u001b[0m\u001b[0mtoken\u001b[0m\u001b[0;34m.\u001b[0m\u001b[0mtranslate\u001b[0m\u001b[0;34m(\u001b[0m\u001b[0mstr\u001b[0m\u001b[0;34m.\u001b[0m\u001b[0mmaketrans\u001b[0m\u001b[0;34m(\u001b[0m\u001b[0;34m''\u001b[0m\u001b[0;34m,\u001b[0m \u001b[0;34m''\u001b[0m\u001b[0;34m,\u001b[0m \u001b[0mstring\u001b[0m\u001b[0;34m.\u001b[0m\u001b[0mpunctuation\u001b[0m\u001b[0;34m)\u001b[0m\u001b[0;34m)\u001b[0m \u001b[0;32mfor\u001b[0m \u001b[0mtoken\u001b[0m \u001b[0;32min\u001b[0m \u001b[0mmy_tokens\u001b[0m\u001b[0;34m]\u001b[0m\u001b[0;34m)\u001b[0m\u001b[0;34m\u001b[0m\u001b[0;34m\u001b[0m\u001b[0m\n\u001b[0m\u001b[1;32m      8\u001b[0m     \u001b[0;32mreturn\u001b[0m \u001b[0;34m[\u001b[0m\u001b[0mtoken\u001b[0m\u001b[0;34m.\u001b[0m\u001b[0mtranslate\u001b[0m\u001b[0;34m(\u001b[0m\u001b[0mstr\u001b[0m\u001b[0;34m.\u001b[0m\u001b[0mmaketrans\u001b[0m\u001b[0;34m(\u001b[0m\u001b[0;34m''\u001b[0m\u001b[0;34m,\u001b[0m \u001b[0;34m''\u001b[0m\u001b[0;34m,\u001b[0m \u001b[0mstring\u001b[0m\u001b[0;34m.\u001b[0m\u001b[0mpunctuation\u001b[0m\u001b[0;34m)\u001b[0m\u001b[0;34m)\u001b[0m \u001b[0;32mfor\u001b[0m \u001b[0mtoken\u001b[0m \u001b[0;32min\u001b[0m \u001b[0mmy_tokens\u001b[0m\u001b[0;34m]\u001b[0m\u001b[0;34m\u001b[0m\u001b[0;34m\u001b[0m\u001b[0m\n\u001b[1;32m      9\u001b[0m \u001b[0;34m\u001b[0m\u001b[0m\n",
      "\u001b[0;31mAttributeError\u001b[0m: 'str' object has no attribute 'punctuation'"
     ]
    }
   ],
   "source": [
    "clean_text(submission.title)"
   ]
  },
  {
   "cell_type": "code",
   "execution_count": 210,
   "id": "411c978b",
   "metadata": {},
   "outputs": [
    {
     "ename": "TypeError",
     "evalue": "'CommentForest' object is not callable",
     "output_type": "error",
     "traceback": [
      "\u001b[0;31m---------------------------------------------------------------------------\u001b[0m",
      "\u001b[0;31mTypeError\u001b[0m                                 Traceback (most recent call last)",
      "\u001b[0;32m<ipython-input-210-8c30ad6151d0>\u001b[0m in \u001b[0;36m<module>\u001b[0;34m\u001b[0m\n\u001b[0;32m----> 1\u001b[0;31m \u001b[0msubmission\u001b[0m\u001b[0;34m.\u001b[0m\u001b[0mcomments\u001b[0m\u001b[0;34m(\u001b[0m\u001b[0;34m)\u001b[0m\u001b[0;34m\u001b[0m\u001b[0;34m\u001b[0m\u001b[0m\n\u001b[0m",
      "\u001b[0;31mTypeError\u001b[0m: 'CommentForest' object is not callable"
     ]
    }
   ],
   "source": []
  },
  {
   "cell_type": "code",
   "execution_count": null,
   "id": "0f17c0b6",
   "metadata": {},
   "outputs": [],
   "source": [
    "def getTLDR(sentence):\n",
    "    \n"
   ]
  },
  {
   "cell_type": "code",
   "execution_count": null,
   "id": "792b8f6a",
   "metadata": {},
   "outputs": [],
   "source": [
    "comments = []"
   ]
  },
  {
   "cell_type": "code",
   "execution_count": 209,
   "id": "04e5ecbd",
   "metadata": {},
   "outputs": [
    {
     "ename": "SyntaxError",
     "evalue": "invalid syntax (<ipython-input-209-6833c0c1bc4e>, line 2)",
     "output_type": "error",
     "traceback": [
      "\u001b[0;36m  File \u001b[0;32m\"<ipython-input-209-6833c0c1bc4e>\"\u001b[0;36m, line \u001b[0;32m2\u001b[0m\n\u001b[0;31m    if not self.title\u001b[0m\n\u001b[0m                     ^\u001b[0m\n\u001b[0;31mSyntaxError\u001b[0m\u001b[0;31m:\u001b[0m invalid syntax\n"
     ]
    }
   ],
   "source": [
    "for submission in reddit.subreddit(\"relationships\").top(\"year\", limit=200):\n",
    "    if not self.title\n",
    "    comments.append(submission.selftext)\n",
    "    comments.append()"
   ]
  },
  {
   "cell_type": "code",
   "execution_count": null,
   "id": "1854f51f",
   "metadata": {},
   "outputs": [],
   "source": []
  }
 ],
 "metadata": {
  "kernelspec": {
   "display_name": "Python 3",
   "language": "python",
   "name": "python3"
  },
  "language_info": {
   "codemirror_mode": {
    "name": "ipython",
    "version": 3
   },
   "file_extension": ".py",
   "mimetype": "text/x-python",
   "name": "python",
   "nbconvert_exporter": "python",
   "pygments_lexer": "ipython3",
   "version": "3.8.10"
  },
  "widgets": {
   "application/vnd.jupyter.widget-state+json": {
    "state": {},
    "version_major": 2,
    "version_minor": 0
   }
  }
 },
 "nbformat": 4,
 "nbformat_minor": 5
}
